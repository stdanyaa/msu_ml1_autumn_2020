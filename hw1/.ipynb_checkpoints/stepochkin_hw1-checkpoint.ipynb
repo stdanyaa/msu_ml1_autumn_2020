{
 "cells": [
  {
   "cell_type": "markdown",
   "metadata": {
    "id": "Dkd-voiaWosH"
   },
   "source": [
    "**Общая информация**\n",
    "\n",
    "**Срок сдачи:** 21 октября 2020, 08:30 \n",
    "\n",
    "**Штраф за опоздание:** по 1 баллу за 24 часа задержки. Через 5 дней домашнее задание сгорает.\n",
    "\n",
    "При отправлении ДЗ указывайте фамилию в названии файла\n",
    "Присылать ДЗ необходимо в виде ссылки на свой github репозиторий на почту ml1.sphere@mail.ru с указанием темы в следующем формате:\n",
    "\n",
    "[ML0220, Задание 1] Фамилия Имя.\n",
    "\n",
    "Используйте данный Ipython Notebook при оформлении домашнего задания."
   ]
  },
  {
   "cell_type": "markdown",
   "metadata": {
    "id": "lGTaEteQWosJ"
   },
   "source": [
    "\n",
    "**Штрафные баллы:**\n",
    "\n",
    "1. Отсутствие фамилии в имени скрипта (скрипт должен называться по аналогии со stroykova_hw1.ipynb) -0.5 баллов\n",
    "2. Все строчки должны быть выполнены. Нужно, чтобы output команды можно было увидеть уже в git'е. В противном случае -0.5 баллов\n"
   ]
  },
  {
   "cell_type": "code",
   "execution_count": 1,
   "metadata": {
    "id": "3t8BAzPXWosK"
   },
   "outputs": [],
   "source": [
    "import numpy as np\n",
    "import matplotlib.pyplot as plt\n",
    "\n",
    "import seaborn as sns\n",
    "from sklearn import datasets\n",
    "from sklearn.base import BaseEstimator\n",
    "from sklearn.datasets import fetch_20newsgroups\n",
    "# deleted import fetch_mldata\n",
    "\n",
    "from sklearn.model_selection import train_test_split\n",
    "from sklearn.neighbors import KNeighborsClassifier\n",
    "from sklearn.metrics import accuracy_score\n",
    "\n",
    "from sklearn.neighbors import KDTree"
   ]
  },
  {
   "cell_type": "code",
   "execution_count": 2,
   "metadata": {
    "id": "yQedcvQ_WosQ"
   },
   "outputs": [],
   "source": [
    "import scipy as sc\n",
    "from sklearn.model_selection import KFold"
   ]
  },
  {
   "cell_type": "markdown",
   "metadata": {
    "id": "WkAbYT4tWosU"
   },
   "source": [
    "##### Задание 1 (1 балл)\n",
    "Реализовать KNN в классе MyKNeighborsClassifier (обязательное условие: точность не ниже sklearn реализации)\n",
    "Разберитесь самостоятельно, какая мера расстояния используется в KNeighborsClassifier дефолтно и реализуйте свой алгоритм именно с этой мерой. \n",
    "Для подсчета расстояний можно использовать функции [отсюда](https://docs.scipy.org/doc/scipy/reference/spatial.distance.html)"
   ]
  },
  {
   "cell_type": "code",
   "execution_count": 3,
   "metadata": {
    "id": "NZ7tvQ3HWosV"
   },
   "outputs": [],
   "source": [
    "from sklearn.metrics import pairwise_distances\n",
    "from sklearn.preprocessing import StandardScaler\n",
    "class MyKNeighborsClassifier(BaseEstimator):\n",
    "    \n",
    "    def __init__(self, n_neighbors = 12, algorithm='brute', metric='euclidean', standartization = False):\n",
    "        self.X = None\n",
    "        self.y = None\n",
    "        self.kd_tree = None\n",
    "        self.n = n_neighbors\n",
    "        self.alg = algorithm\n",
    "        self.metric = metric\n",
    "        self.initialized = False\n",
    "        self.stand = standartization\n",
    "    \n",
    "    def fit(self, X, y):\n",
    "        self.initialized = True\n",
    "        self.y = y            \n",
    "        self.X = X\n",
    "        if self.alg == 'kd_tree':\n",
    "            self.kd_tree = KDTree(self.X, metric=self.metric)\n",
    "            #kd_tree будет выдавать ошибку при работе со sparse  \n",
    "            #матрицами\n",
    "    \n",
    "    def predict(self, X):\n",
    "        \n",
    "        if (self.stand):\n",
    "            scale = StandardScaler()\n",
    "            self.X = scale.fit_transform(self.X)\n",
    "            X = scale.transform(X) \n",
    "        if self.alg == 'brute':\n",
    "            return sc.stats.mode(self.y[np.argpartition(\n",
    "                pairwise_distances(X, self.X, metric=self.metric),\n",
    "                self.n, axis = 1)[:,:self.n]], axis = 1)[0]\n",
    "        elif self.alg == 'kd_tree':\n",
    "            return sc.stats.mode(self.y[self.kd_tree.query(\n",
    "                X, k=self.n, return_distance = False)], axis = 1)[0]\n",
    "\n",
    "    def cv_score(self, n_folds = 3):\n",
    "        if (self.initialized == False):\n",
    "            return 0\n",
    "        kf = KFold(n_folds)    \n",
    "        X = self.X\n",
    "        y = self.y                  \n",
    "        scores=[]\n",
    "        for train, test in kf.split(self.y):\n",
    "            self.fit(X[train,:],y[train])\n",
    "            scores.append(accuracy_score(y[test],self.predict(X[test])))\n",
    "        self.X = X\n",
    "        self.y = y\n",
    "        return np.mean(scores)\n",
    "\n",
    "    def best_n_neighbors(self, max_k = 20):\n",
    "        X = self.X\n",
    "        y = self.y\n",
    "        meanscores = []\n",
    "        for i in range(1,max_k):\n",
    "            self.n = i\n",
    "            meanscores.append(self.cv_score())\n",
    "        self.n = meanscores.index(max(meanscores))\n",
    "        return self.n\n",
    "\n",
    "                \n",
    "\n",
    "\n",
    "\n",
    "\n",
    "      \n",
    "      \n",
    "    "
   ]
  },
  {
   "cell_type": "markdown",
   "metadata": {
    "id": "pcqkP10NWosa"
   },
   "source": [
    "**IRIS**\n",
    "\n",
    "В библиотеке scikit-learn есть несколько датасетов из коробки. Один из них [Ирисы Фишера](https://ru.wikipedia.org/wiki/%D0%98%D1%80%D0%B8%D1%81%D1%8B_%D0%A4%D0%B8%D1%88%D0%B5%D1%80%D0%B0)"
   ]
  },
  {
   "cell_type": "code",
   "execution_count": 4,
   "metadata": {
    "id": "fOwUNX_WWosb"
   },
   "outputs": [],
   "source": [
    "iris = datasets.load_iris()"
   ]
  },
  {
   "cell_type": "code",
   "execution_count": 5,
   "metadata": {
    "id": "DMGTVpzZWosf"
   },
   "outputs": [],
   "source": [
    "X_train, X_test, y_train, y_test = train_test_split(iris.data, iris.target, test_size=0.1, stratify=iris.target)"
   ]
  },
  {
   "cell_type": "code",
   "execution_count": 6,
   "metadata": {
    "id": "5LVsPMomWosk"
   },
   "outputs": [],
   "source": [
    "clf = KNeighborsClassifier(n_neighbors=2, algorithm='brute')\n",
    "my_clf = MyKNeighborsClassifier(n_neighbors=2, algorithm='brute')"
   ]
  },
  {
   "cell_type": "code",
   "execution_count": 7,
   "metadata": {
    "id": "7TNGHsmfWoso"
   },
   "outputs": [],
   "source": [
    "clf.fit(X_train, y_train)\n",
    "my_clf.fit(X_train, y_train)"
   ]
  },
  {
   "cell_type": "code",
   "execution_count": 8,
   "metadata": {
    "id": "jDiKcZvbWost"
   },
   "outputs": [],
   "source": [
    "sklearn_pred = clf.predict(X_test)\n",
    "my_clf_pred = my_clf.predict(X_test)\n",
    "assert abs( accuracy_score(y_test, my_clf_pred) -  accuracy_score(y_test, sklearn_pred ) )<0.005, \"Score must be simillar\""
   ]
  },
  {
   "cell_type": "markdown",
   "metadata": {
    "id": "34THrjjwWosx"
   },
   "source": [
    "**Задание 2 (0.5 балла)**\n",
    "\n",
    "Давайте попробуем добиться скорости работы на fit, predict сравнимой со sklearn для iris. Допускается замедление не более чем в 2 раза. \n",
    "Для этого используем numpy. "
   ]
  },
  {
   "cell_type": "code",
   "execution_count": 9,
   "metadata": {
    "colab": {
     "base_uri": "https://localhost:8080/",
     "height": 105
    },
    "id": "oDMRZCzWWosy",
    "outputId": "1da43c43-647e-478c-e506-69628b8a978b"
   },
   "outputs": [
    {
     "name": "stdout",
     "output_type": "stream",
     "text": [
      "CPU times: user 807 µs, sys: 0 ns, total: 807 µs\n",
      "Wall time: 668 µs\n"
     ]
    },
    {
     "data": {
      "text/plain": [
       "KNeighborsClassifier(algorithm='brute', leaf_size=30, metric='minkowski',\n",
       "                     metric_params=None, n_jobs=None, n_neighbors=2, p=2,\n",
       "                     weights='uniform')"
      ]
     },
     "execution_count": 9,
     "metadata": {
      "tags": []
     },
     "output_type": "execute_result"
    }
   ],
   "source": [
    "%time clf.fit(X_train, y_train)"
   ]
  },
  {
   "cell_type": "code",
   "execution_count": 10,
   "metadata": {
    "colab": {
     "base_uri": "https://localhost:8080/",
     "height": 52
    },
    "id": "zyNDPAq1Wos4",
    "outputId": "987ce280-ec51-4011-822e-ddbcfdb36e59"
   },
   "outputs": [
    {
     "name": "stdout",
     "output_type": "stream",
     "text": [
      "CPU times: user 10 µs, sys: 2 µs, total: 12 µs\n",
      "Wall time: 16.2 µs\n"
     ]
    }
   ],
   "source": [
    "%time my_clf.fit(X_train, y_train)"
   ]
  },
  {
   "cell_type": "code",
   "execution_count": 11,
   "metadata": {
    "colab": {
     "base_uri": "https://localhost:8080/",
     "height": 70
    },
    "id": "HiSKB9rZWos8",
    "outputId": "d9ba5bed-7a7a-4e3c-d78d-b6e936ebbffd"
   },
   "outputs": [
    {
     "name": "stdout",
     "output_type": "stream",
     "text": [
      "CPU times: user 2.27 ms, sys: 0 ns, total: 2.27 ms\n",
      "Wall time: 2.87 ms\n"
     ]
    },
    {
     "data": {
      "text/plain": [
       "array([0, 0, 2, 0, 1, 1, 2, 2, 1, 0, 1, 2, 1, 0, 1])"
      ]
     },
     "execution_count": 11,
     "metadata": {
      "tags": []
     },
     "output_type": "execute_result"
    }
   ],
   "source": [
    "%time clf.predict(X_test)"
   ]
  },
  {
   "cell_type": "code",
   "execution_count": 12,
   "metadata": {
    "colab": {
     "base_uri": "https://localhost:8080/",
     "height": 318
    },
    "id": "lwV2vVbIWotA",
    "outputId": "90881d13-b3bc-40f5-f61e-e231d6657703"
   },
   "outputs": [
    {
     "name": "stdout",
     "output_type": "stream",
     "text": [
      "CPU times: user 1.58 ms, sys: 94 µs, total: 1.67 ms\n",
      "Wall time: 1.77 ms\n"
     ]
    },
    {
     "data": {
      "text/plain": [
       "array([[0],\n",
       "       [0],\n",
       "       [2],\n",
       "       [0],\n",
       "       [1],\n",
       "       [1],\n",
       "       [2],\n",
       "       [2],\n",
       "       [1],\n",
       "       [0],\n",
       "       [1],\n",
       "       [2],\n",
       "       [1],\n",
       "       [0],\n",
       "       [1]])"
      ]
     },
     "execution_count": 12,
     "metadata": {
      "tags": []
     },
     "output_type": "execute_result"
    }
   ],
   "source": [
    "%time my_clf.predict(X_test)"
   ]
  },
  {
   "cell_type": "markdown",
   "metadata": {
    "id": "MBnPnZtqWotE"
   },
   "source": [
    "###### Задание 3 (1 балл)\n",
    "Добавьте algorithm='kd_tree' в реализацию KNN (использовать KDTree из sklearn.neighbors). Необходимо добиться скорости работы на fit,  predict сравнимой со sklearn для iris. Допускается замедление не более чем в 2 раза. \n",
    "Для этого используем numpy. Точность не должна уступать значению KNN из sklearn. "
   ]
  },
  {
   "cell_type": "code",
   "execution_count": 13,
   "metadata": {
    "id": "VPpAgWy2WotF"
   },
   "outputs": [],
   "source": [
    "clf = KNeighborsClassifier(n_neighbors=2, algorithm='kd_tree')\n",
    "my_clf = MyKNeighborsClassifier(n_neighbors=2, algorithm='kd_tree')"
   ]
  },
  {
   "cell_type": "code",
   "execution_count": 14,
   "metadata": {
    "id": "XwvvBCqKWotM"
   },
   "outputs": [],
   "source": [
    "X_train, X_test, y_train, y_test = train_test_split(iris.data, iris.target, test_size=0.1, stratify=iris.target)"
   ]
  },
  {
   "cell_type": "code",
   "execution_count": 15,
   "metadata": {
    "colab": {
     "base_uri": "https://localhost:8080/",
     "height": 105
    },
    "id": "CLstVa_LWotT",
    "outputId": "088be0d6-2ce3-4e74-dfcc-7b52b1fd8465"
   },
   "outputs": [
    {
     "name": "stdout",
     "output_type": "stream",
     "text": [
      "CPU times: user 890 µs, sys: 0 ns, total: 890 µs\n",
      "Wall time: 899 µs\n"
     ]
    },
    {
     "data": {
      "text/plain": [
       "KNeighborsClassifier(algorithm='kd_tree', leaf_size=30, metric='minkowski',\n",
       "                     metric_params=None, n_jobs=None, n_neighbors=2, p=2,\n",
       "                     weights='uniform')"
      ]
     },
     "execution_count": 15,
     "metadata": {
      "tags": []
     },
     "output_type": "execute_result"
    }
   ],
   "source": [
    "%time clf.fit(X_train, y_train)"
   ]
  },
  {
   "cell_type": "code",
   "execution_count": 16,
   "metadata": {
    "colab": {
     "base_uri": "https://localhost:8080/",
     "height": 52
    },
    "id": "aDs3xrJXWotY",
    "outputId": "b7e0767c-7b5e-46e3-9fc5-b7f894db26a0"
   },
   "outputs": [
    {
     "name": "stdout",
     "output_type": "stream",
     "text": [
      "CPU times: user 233 µs, sys: 0 ns, total: 233 µs\n",
      "Wall time: 239 µs\n"
     ]
    }
   ],
   "source": [
    "%time my_clf.fit(X_train, y_train)"
   ]
  },
  {
   "cell_type": "code",
   "execution_count": 17,
   "metadata": {
    "colab": {
     "base_uri": "https://localhost:8080/",
     "height": 70
    },
    "id": "l003sak5Wotc",
    "outputId": "837c8788-588e-4572-cc9f-4f1e950a044b"
   },
   "outputs": [
    {
     "name": "stdout",
     "output_type": "stream",
     "text": [
      "CPU times: user 2.37 ms, sys: 6 µs, total: 2.38 ms\n",
      "Wall time: 2.63 ms\n"
     ]
    },
    {
     "data": {
      "text/plain": [
       "array([2, 0, 1, 2, 1, 1, 1, 2, 0, 0, 1, 2, 0, 1, 0])"
      ]
     },
     "execution_count": 17,
     "metadata": {
      "tags": []
     },
     "output_type": "execute_result"
    }
   ],
   "source": [
    "%time clf.predict(X_test)"
   ]
  },
  {
   "cell_type": "code",
   "execution_count": 18,
   "metadata": {
    "colab": {
     "base_uri": "https://localhost:8080/",
     "height": 318
    },
    "id": "ejBYB75FWoti",
    "outputId": "5c10b7e4-7a05-4845-a679-ed810c14616b"
   },
   "outputs": [
    {
     "name": "stdout",
     "output_type": "stream",
     "text": [
      "CPU times: user 1.42 ms, sys: 0 ns, total: 1.42 ms\n",
      "Wall time: 1.43 ms\n"
     ]
    },
    {
     "data": {
      "text/plain": [
       "array([[2],\n",
       "       [0],\n",
       "       [1],\n",
       "       [2],\n",
       "       [1],\n",
       "       [1],\n",
       "       [1],\n",
       "       [2],\n",
       "       [0],\n",
       "       [0],\n",
       "       [1],\n",
       "       [2],\n",
       "       [0],\n",
       "       [1],\n",
       "       [0]])"
      ]
     },
     "execution_count": 18,
     "metadata": {
      "tags": []
     },
     "output_type": "execute_result"
    }
   ],
   "source": [
    "%time my_clf.predict(X_test)"
   ]
  },
  {
   "cell_type": "code",
   "execution_count": 19,
   "metadata": {
    "id": "F-p7xKtmWotm"
   },
   "outputs": [],
   "source": [
    "sklearn_pred = clf.predict(X_test)\n",
    "my_clf_pred = my_clf.predict(X_test)\n",
    "assert abs( accuracy_score(y_test, my_clf_pred) -  accuracy_score(y_test, sklearn_pred ) )<0.005, \"Score must be simillar\""
   ]
  },
  {
   "cell_type": "markdown",
   "metadata": {
    "id": "Suztl47nWotq"
   },
   "source": [
    "**Задание 4 (2.5 балла)**\n",
    "\n",
    "Рассмотрим новый датасет 20 newsgroups"
   ]
  },
  {
   "cell_type": "code",
   "execution_count": 20,
   "metadata": {
    "id": "83Tgz9BhWotr"
   },
   "outputs": [],
   "source": [
    "newsgroups = fetch_20newsgroups(subset='train',remove=['headers','footers', 'quotes'])"
   ]
  },
  {
   "cell_type": "code",
   "execution_count": 21,
   "metadata": {
    "id": "iaBlyUPVWotv"
   },
   "outputs": [],
   "source": [
    "data = newsgroups['data']\n",
    "target = newsgroups['target']"
   ]
  },
  {
   "cell_type": "markdown",
   "metadata": {
    "id": "-1ljH39MWouA"
   },
   "source": [
    "Преобразуйте текстовые данные из data с помощью [CountVectorizer](https://scikit-learn.org/stable/modules/generated/sklearn.feature_extraction.text.CountVectorizer.html). Словарь можно ограничить по частотности."
   ]
  },
  {
   "cell_type": "code",
   "execution_count": 22,
   "metadata": {
    "id": "_v87Bap8Wotz"
   },
   "outputs": [],
   "source": [
    "from sklearn.feature_extraction.text import CountVectorizer\n",
    "vectorizer = CountVectorizer(max_features = 1500)\n",
    "X_features = vectorizer.fit_transform(data).toarray()"
   ]
  },
  {
   "cell_type": "markdown",
   "metadata": {
    "id": "Ee1Zhlc5WouF"
   },
   "source": [
    "*Так мы получили векторное представление наших текстов. Значит можно приступать к задаче обучения модели*"
   ]
  },
  {
   "cell_type": "markdown",
   "metadata": {
    "id": "4HQcv6mtWouG"
   },
   "source": [
    "Реализуйте разбиение выборки для кросс-валидации на 3 фолдах. Разрешено использовать sklearn.cross_validation"
   ]
  },
  {
   "cell_type": "code",
   "execution_count": 23,
   "metadata": {
    "id": "rGFZPr8n0gSF"
   },
   "outputs": [],
   "source": [
    "from sklearn.model_selection import KFold\n",
    "kf = KFold(n_splits=3)"
   ]
  },
  {
   "cell_type": "code",
   "execution_count": 24,
   "metadata": {
    "id": "I7sujuVPWouH"
   },
   "outputs": [],
   "source": [
    "#функции, подобные методу моего класса, для поиска скора на кроссвалидации\n",
    "def mean_score_3fold_mineKNN(n_neighbors,X_,y_,metric_='euclidean'):\n",
    "    if (n_neighbors == 0):\n",
    "        return 0\n",
    "    estimator = MyKNeighborsClassifier(n_neighbors,'brute', metric = metric_)\n",
    "    kf=KFold(n_splits=3)\n",
    "    scores=[]\n",
    "    for train, test in kf.split(y_):\n",
    "        estimator.fit(X_[train,:],y_[train])\n",
    "        scores.append(accuracy_score(y_[test],estimator.predict(X_[test])))\n",
    "    return np.mean(scores)\n",
    "\n",
    "def mean_score_3fold_KNN(n,X_,y_,metric_='euclidean'):\n",
    "    if (n == 0):\n",
    "        return 0\n",
    "    estimator = KNeighborsClassifier(n_neighbors=n,algorithm='brute', metric = metric_)\n",
    "    kf=KFold(n_splits=3)\n",
    "    scores=[]\n",
    "    for train, test in kf.split(y_):\n",
    "        estimator.fit(X_[train,:],y_[train])\n",
    "        scores.append(accuracy_score(y_[test],estimator.predict(X_[test])))\n",
    "    return np.mean(scores)"
   ]
  },
  {
   "cell_type": "code",
   "execution_count": 25,
   "metadata": {
    "colab": {
     "base_uri": "https://localhost:8080/",
     "height": 70
    },
    "id": "KRKaB-pGpl5Y",
    "outputId": "5ffa29c1-9257-4f75-e791-a04945a225a3"
   },
   "outputs": [
    {
     "name": "stdout",
     "output_type": "stream",
     "text": [
      "CPU times: user 17.2 s, sys: 731 ms, total: 18 s\n",
      "Wall time: 10.2 s\n"
     ]
    },
    {
     "data": {
      "text/plain": [
       "0.1821642797037427"
      ]
     },
     "execution_count": 25,
     "metadata": {
      "tags": []
     },
     "output_type": "execute_result"
    }
   ],
   "source": [
    "%time mean_score_3fold_mineKNN(10,X_features,target)"
   ]
  },
  {
   "cell_type": "code",
   "execution_count": 26,
   "metadata": {
    "colab": {
     "base_uri": "https://localhost:8080/",
     "height": 70
    },
    "id": "ysJkImqGTdi-",
    "outputId": "a3638ffa-903b-4b85-dd12-c49695222844"
   },
   "outputs": [
    {
     "name": "stdout",
     "output_type": "stream",
     "text": [
      "CPU times: user 17.2 s, sys: 367 ms, total: 17.6 s\n",
      "Wall time: 9.91 s\n"
     ]
    },
    {
     "data": {
      "text/plain": [
       "0.1821642797037427"
      ]
     },
     "execution_count": 26,
     "metadata": {
      "tags": []
     },
     "output_type": "execute_result"
    }
   ],
   "source": [
    "%time mean_score_3fold_KNN(10,X_features,target)"
   ]
  },
  {
   "cell_type": "markdown",
   "metadata": {
    "id": "_gHVdLUxWouO"
   },
   "source": [
    "Напишите метод, позволяющий найти оптимальное количество ближайших соседей(дающее максимальную точность в среднем на валидации на 3 фолдах).\n",
    "Постройте график зависимости средней точности от количества соседей. Можно рассмотреть число соседей от 1 до 10."
   ]
  },
  {
   "cell_type": "code",
   "execution_count": 27,
   "metadata": {
    "colab": {
     "base_uri": "https://localhost:8080/",
     "height": 70
    },
    "id": "ulQV19VWTNbQ",
    "outputId": "25c46d53-0874-494b-d5c4-8eabe0dffd0b"
   },
   "outputs": [
    {
     "name": "stdout",
     "output_type": "stream",
     "text": [
      "CPU times: user 2min 34s, sys: 3.39 s, total: 2min 37s\n",
      "Wall time: 1min 28s\n"
     ]
    },
    {
     "data": {
      "text/plain": [
       "8"
      ]
     },
     "execution_count": 27,
     "metadata": {
      "tags": []
     },
     "output_type": "execute_result"
    }
   ],
   "source": [
    "#best_n_neighbors - метод, позволяющий найти оптимальное количество ближайших соседей\n",
    "KNN = MyKNeighborsClassifier()\n",
    "KNN.fit(X_features, target)\n",
    "%time KNN.best_n_neighbors(10)"
   ]
  },
  {
   "cell_type": "code",
   "execution_count": 28,
   "metadata": {
    "id": "tRa4oB6SWouP"
   },
   "outputs": [],
   "source": [
    "#точки для графика\n",
    "x = np.arange(1,11,1)\n",
    "y = []\n",
    "KNN = MyKNeighborsClassifier(standartization=True)\n",
    "KNN.fit(X_features, target)\n",
    "for i in x:\n",
    "    KNN.n = i\n",
    "    y.append(KNN.cv_score())\n",
    "y = np.asarray(y)"
   ]
  },
  {
   "cell_type": "code",
   "execution_count": 29,
   "metadata": {
    "colab": {
     "base_uri": "https://localhost:8080/",
     "height": 387
    },
    "id": "BQY3n2RF3i_3",
    "outputId": "4537648b-a5ed-4322-b544-58c8443b1b03"
   },
   "outputs": [
    {
     "data": {
      "image/png": "[encoded data removed]",
      "text/plain": [
       "<Figure size 576x432 with 1 Axes>"
      ]
     },
     "metadata": {
      "needs_background": "light",
      "tags": []
     },
     "output_type": "display_data"
    }
   ],
   "source": [
    "plt.figure(figsize = (8,6))\n",
    "neighbors_plt = plt.subplot(111)\n",
    "neighbors_plt.plot(x,y)\n",
    "neighbors_plt.set_xlabel(\"num of neighbors\")\n",
    "neighbors_plt.set_ylabel(\"cv score\")\n",
    "plt.grid(True)"
   ]
  },
  {
   "cell_type": "markdown",
   "metadata": {
    "id": "QOi3bsMmWouS"
   },
   "source": [
    "Как изменится качество на валидации, если:\n",
    "\n",
    "1. Используется косинусная метрика вместо евклидовой.\n",
    "2. К текстам применяется TfIdf векторизацию( sklearn.feature_extraction.text.TfidfVectorizer)\n",
    "\n",
    "Сравните модели, выберите лучшую."
   ]
  },
  {
   "cell_type": "code",
   "execution_count": 30,
   "metadata": {
    "id": "e1d-_XmB2iDO"
   },
   "outputs": [],
   "source": [
    "#cosine метрика\n",
    "KNN_cos = MyKNeighborsClassifier(metric='cosine',standartization=True)\n",
    "KNN_cos.fit(X_features, target)\n",
    "y_cos = []\n",
    "for i in x:\n",
    "    KNN_cos.n = i\n",
    "    y_cos.append(KNN_cos.cv_score())\n",
    "y_cos = np.asarray(y_cos)"
   ]
  },
  {
   "cell_type": "code",
   "execution_count": 33,
   "metadata": {
    "id": "njvp9gC-4IyT"
   },
   "outputs": [],
   "source": [
    "#TfIdf векторизация\n",
    "from sklearn.feature_extraction.text import TfidfVectorizer\n",
    "vectorizer_tfidf = TfidfVectorizer(max_features = 1500)\n",
    "X_features_tf = vectorizer_tfidf.fit_transform(data).toarray()\n",
    "vocab = vectorizer_tfidf.get_feature_names()"
   ]
  },
  {
   "cell_type": "code",
   "execution_count": 34,
   "metadata": {
    "id": "LjJAujkm4Wrc"
   },
   "outputs": [],
   "source": [
    "KNN_cos_tf = MyKNeighborsClassifier(metric='cosine',standartization=True)\n",
    "KNN_cos_tf.fit(X_features_tf, target)\n",
    "y_cos_tf = []\n",
    "for i in x:\n",
    "    KNN_cos_tf.n = i\n",
    "    y_cos_tf.append(KNN_cos_tf.cv_score())\n",
    "y_cos_tf = np.asarray(y_cos_tf)\n",
    "#написать бы функцию вместо двух копипастов"
   ]
  },
  {
   "cell_type": "code",
   "execution_count": 35,
   "metadata": {
    "colab": {
     "base_uri": "https://localhost:8080/",
     "height": 407
    },
    "id": "lsaWoXLKDlmx",
    "outputId": "c12fd9d5-3d3c-460d-cdae-8d4076244023"
   },
   "outputs": [
    {
     "data": {
      "text/plain": [
       "<matplotlib.legend.Legend at 0x7ff8a184d828>"
      ]
     },
     "execution_count": 35,
     "metadata": {
      "tags": []
     },
     "output_type": "execute_result"
    },
    {
     "data": {
      "image/png": "[encoded data removed]",
      "text/plain": [
       "<Figure size 576x432 with 1 Axes>"
      ]
     },
     "metadata": {
      "needs_background": "light",
      "tags": []
     },
     "output_type": "display_data"
    }
   ],
   "source": [
    "plt.figure(figsize = (8,6))\n",
    "neighbors_plt = plt.subplot(111)\n",
    "neighbors_plt.plot(x,y,'r')\n",
    "neighbors_plt.plot(x,y_cos,'g')\n",
    "neighbors_plt.plot(x,y_cos_tf,'b')\n",
    "neighbors_plt.set_xlabel(\"num of neighbors\")\n",
    "neighbors_plt.set_ylabel(\"cv score\")\n",
    "plt.grid(True)\n",
    "neighbors_plt.legend(('euclidean','cosine','cosine + tfidf vectorization'))"
   ]
  },
  {
   "cell_type": "markdown",
   "metadata": {
    "id": "HNHt9p-pWouT"
   },
   "source": [
    "Загрузим  теперь test  часть нашей выборки и преобразуем её аналогично с train частью. Не забудьте, что наборы слов в train и test части могут отличаться."
   ]
  },
  {
   "cell_type": "code",
   "execution_count": 36,
   "metadata": {
    "id": "JFeq1vDLWouT"
   },
   "outputs": [],
   "source": [
    "newsgroups = fetch_20newsgroups(subset='test',remove=['headers','footers', 'quotes'])\n",
    "vectorizer_test = TfidfVectorizer(max_features = 1500, vocabulary=vocab)\n",
    "X_features_test = vectorizer_test.fit_transform(newsgroups['data']).toarray()"
   ]
  },
  {
   "cell_type": "markdown",
   "metadata": {
    "id": "pQ1lkqXjWouY"
   },
   "source": [
    "Оценим точность вашей лучшей модели на test части датасета. Отличается ли оно от кросс-валидации? Попробуйте сделать выводы, почему отличается качество."
   ]
  },
  {
   "cell_type": "code",
   "execution_count": 39,
   "metadata": {
    "colab": {
     "base_uri": "https://localhost:8080/",
     "height": 70
    },
    "id": "OgN348SdEpWp",
    "outputId": "faea56c9-b950-483b-eea5-b75b7dd8cf38"
   },
   "outputs": [
    {
     "name": "stdout",
     "output_type": "stream",
     "text": [
      "CPU times: user 8min 33s, sys: 11.1 s, total: 8min 44s\n",
      "Wall time: 5min 1s\n"
     ]
    },
    {
     "data": {
      "text/plain": [
       "28"
      ]
     },
     "execution_count": 39,
     "metadata": {
      "tags": []
     },
     "output_type": "execute_result"
    }
   ],
   "source": [
    "KNN_cos_tf = MyKNeighborsClassifier(metric='cosine', standartization=True)\n",
    "KNN_cos_tf.fit(X_features_tf, target)\n",
    "%time KNN_cos_tf.best_n_neighbors(30)"
   ]
  },
  {
   "cell_type": "code",
   "execution_count": 40,
   "metadata": {
    "colab": {
     "base_uri": "https://localhost:8080/",
     "height": 52
    },
    "id": "kybL1FzGWouY",
    "outputId": "3a0648c5-fd9d-4e71-e1be-67fb1e26589a"
   },
   "outputs": [
    {
     "name": "stdout",
     "output_type": "stream",
     "text": [
      "cv_accuracy 0.487891092549333\n",
      "test_accuracy 0.4361391396707382\n"
     ]
    }
   ],
   "source": [
    "print(\"cv_accuracy\",KNN_cos_tf.cv_score())\n",
    "print(\"test_accuracy\",accuracy_score(newsgroups[\"target\"], KNN_cos_tf.predict(X_features_test)))"
   ]
  },
  {
   "cell_type": "markdown",
   "metadata": {
    "id": "Bm73qPbCch44"
   },
   "source": [
    "Почему точность на тесте отличается от кросс-валидации:\n",
    "\n",
    "Параметр количества соседей подбирался под трейновую выборку, а так же отбор фичей производился на ней."
   ]
  }
 ],
 "metadata": {
  "colab": {
   "collapsed_sections": [],
   "name": "stepochkin_hw1.ipynb",
   "provenance": []
  },
  "kernelspec": {
   "display_name": "Python 3",
   "language": "python",
   "name": "python3"
  },
  "language_info": {
   "codemirror_mode": {
    "name": "ipython",
    "version": 3
   },
   "file_extension": ".py",
   "mimetype": "text/x-python",
   "name": "python",
   "nbconvert_exporter": "python",
   "pygments_lexer": "ipython3",
   "version": "3.8.5"
  }
 },
 "nbformat": 4,
 "nbformat_minor": 1
}
